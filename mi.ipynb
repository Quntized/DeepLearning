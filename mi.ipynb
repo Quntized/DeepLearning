{
 "cells": [
  {
   "cell_type": "code",
   "execution_count": 31,
   "metadata": {},
   "outputs": [],
   "source": [
    "from collections import defaultdict\n",
    "\n",
    "class Variable:\n",
    "    def __init__(self, value, local_gradients=()):\n",
    "        self.value = value\n",
    "        self.local_gradients = local_gradients\n",
    "\n",
    "    def __hash__(self):\n",
    "        return id(self)\n",
    "\n",
    "    def __eq__(self, other):\n",
    "        return id(self) == id(other)\n",
    "\n",
    "def add(a, b):\n",
    "    value = a.value + b.value\n",
    "    local_gradients = ((a, 1), (b, 1))\n",
    "    return Variable(value, local_gradients)\n",
    "\n",
    "def mul(a, b):\n",
    "    value = a.value * b.value\n",
    "    local_gradients = ((a, b.value), (b, a.value))\n",
    "    return Variable(value, local_gradients)\n",
    "\n",
    "def get_gradients(variable):\n",
    "\n",
    "    gradients = defaultdict(lambda: 0)\n",
    "\n",
    "    def compute_gradients(variable, path_value):\n",
    " \n",
    "        for child_variable, local_gradient in variable.local_gradients:\n",
    "            value_of_path_to_child = path_value * local_gradient\n",
    "            gradients[child_variable] += value_of_path_to_child\n",
    "            compute_gradients(child_variable, value_of_path_to_child)\n",
    "\n",
    "    compute_gradients(variable, path_value=1)\n",
    "    return gradients\n",
    "\n"
   ]
  },
  {
   "cell_type": "code",
   "execution_count": 48,
   "metadata": {},
   "outputs": [
    {
     "data": {
      "text/plain": [
       "4"
      ]
     },
     "execution_count": 48,
     "metadata": {},
     "output_type": "execute_result"
    }
   ],
   "source": [
    "a = Variable(4)\n",
    "#print(a.local_gradients)\n",
    "b = Variable(3)\n",
    "#print(b.local_gradients)\n",
    "c = add(a,b)\n",
    "#print(c.local_gradients)\n",
    "d = mul(a,c)\n",
    "#print(d.local_gradients)\n",
    "gradients = get_gradients(d)\n",
    "#print(a.local_gradients)\n",
    "gradients[c]"
   ]
  },
  {
   "cell_type": "code",
   "execution_count": null,
   "metadata": {},
   "outputs": [],
   "source": []
  }
 ],
 "metadata": {
  "kernelspec": {
   "display_name": "Python 3",
   "language": "python",
   "name": "python3"
  },
  "language_info": {
   "codemirror_mode": {
    "name": "ipython",
    "version": 3
   },
   "file_extension": ".py",
   "mimetype": "text/x-python",
   "name": "python",
   "nbconvert_exporter": "python",
   "pygments_lexer": "ipython3",
   "version": "3.12.2"
  }
 },
 "nbformat": 4,
 "nbformat_minor": 2
}
